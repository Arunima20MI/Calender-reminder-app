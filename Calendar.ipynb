{
 "cells": [
  {
   "cell_type": "code",
   "execution_count": 1,
   "id": "e3e58d6e-e4b3-4592-ae78-982e06f2a0b7",
   "metadata": {},
   "outputs": [
    {
     "name": "stdout",
     "output_type": "stream",
     "text": [
      "Requirement already satisfied: tkcalendar in c:\\users\\kiit0001\\appdata\\local\\programs\\python\\python312\\lib\\site-packages (1.6.1)\n",
      "Requirement already satisfied: babel in c:\\users\\kiit0001\\appdata\\local\\programs\\python\\python312\\lib\\site-packages (from tkcalendar) (2.15.0)\n"
     ]
    }
   ],
   "source": [
    "!pip install tkcalendar\n",
    "\n",
    "import tkinter as tk\n",
    "from tkinter import ttk, messagebox\n",
    "from tkcalendar import Calendar\n",
    "import sqlite3\n"
   ]
  },
  {
   "cell_type": "code",
   "execution_count": 2,
   "id": "7f065910-4999-4ca1-ae5c-f12c3016e563",
   "metadata": {},
   "outputs": [],
   "source": [
    "#Setup SQLite databse to store reminders\n",
    "def setup_database():\n",
    "    conn = sqlite3.connect(\"reminders.db\")\n",
    "    cursor = conn.cursor()\n",
    "    cursor.execute(\"\"\"\n",
    "        CREATE TABLE IF NOT EXISTS reminders (\n",
    "            id INTEGER PRIMARY KEY AUTOINCREMENT,\n",
    "            date TEXT NOT NULL,\n",
    "            reminder TEXT NOT NULL\n",
    "        )\n",
    "    \"\"\")\n",
    "    conn.commit()\n",
    "    conn.close()"
   ]
  },
  {
   "cell_type": "code",
   "execution_count": 3,
   "id": "4b223bcd-b5ca-42d6-a4ca-46865b9a1e2e",
   "metadata": {},
   "outputs": [],
   "source": [
    "#Add reminder to the database\n",
    "def add_reminder(date, reminder_text):\n",
    "    conn = sqlite3.connect(\"reminders.db\")\n",
    "    cursor = conn.cursor()\n",
    "    cursor.execute(\"INSERT INTO reminders (date, reminder) VALUES (?, ?)\", (date, reminder_text))\n",
    "    conn.commit()\n",
    "    conn.close()\n"
   ]
  },
  {
   "cell_type": "code",
   "execution_count": 4,
   "id": "6bc8b4a6-fbf4-4e6a-a3fb-04e10c449775",
   "metadata": {},
   "outputs": [],
   "source": [
    "#Fetch reminders for a specific date\n",
    "def fetch_reminders(date):\n",
    "    conn = sqlite3.connect(\"reminders.db\")\n",
    "    cursor = conn.cursor()\n",
    "    cursor.execute(\"SELECT reminder FROM reminders WHERE date = ?\", (date,))\n",
    "    reminders = cursor.fetchall()\n",
    "    conn.close()\n",
    "    return [r[0] for r in reminders]"
   ]
  },
  {
   "cell_type": "code",
   "execution_count": 5,
   "id": "e2f8bda4-398f-4f1e-9af8-e895c8684386",
   "metadata": {},
   "outputs": [],
   "source": [
    "#Main class\n",
    "class CalendarApp:\n",
    "    def __init__(self, root):\n",
    "        self.root = root\n",
    "        self.root.title(\"Calendar with Reminders\")\n",
    "\n",
    "        # Calendar widget\n",
    "        self.calendar = Calendar(root, selectmode='day', date_pattern=\"yyyy-mm-dd\")\n",
    "        self.calendar.pack(pady=20)\n",
    "\n",
    "        # Add Reminder Section\n",
    "        self.reminder_label = tk.Label(root, text=\"Add Reminder:\")\n",
    "        self.reminder_label.pack()\n",
    "\n",
    "        self.reminder_entry = tk.Entry(root, width=50)\n",
    "        self.reminder_entry.pack(pady=5)\n",
    "\n",
    "        self.add_button = tk.Button(root, text=\"Add Reminder\", command=self.add_reminder)\n",
    "        self.add_button.pack(pady=5)\n",
    "\n",
    "        # View Reminders Section\n",
    "        self.view_button = tk.Button(root, text=\"View Reminders\", command=self.view_reminders)\n",
    "        self.view_button.pack(pady=5)\n",
    "\n",
    "        self.reminders_list = tk.Listbox(root, width=50, height=10)\n",
    "        self.reminders_list.pack(pady=10)\n",
    "\n",
    "    def add_reminder(self):\n",
    "        date = self.calendar.get_date()\n",
    "        reminder_text = self.reminder_entry.get()\n",
    "\n",
    "        if reminder_text.strip():\n",
    "            add_reminder(date, reminder_text)\n",
    "            messagebox.showinfo(\"Success\", \"Reminder added successfully!\")\n",
    "            self.reminder_entry.delete(0, tk.END)\n",
    "        else:\n",
    "            messagebox.showwarning(\"Input Error\", \"Please enter a reminder.\")\n",
    "\n",
    "    def view_reminders(self):\n",
    "        date = self.calendar.get_date()\n",
    "        reminders = fetch_reminders(date)\n",
    "        self.reminders_list.delete(0, tk.END)\n",
    "\n",
    "        if reminders:\n",
    "            for reminder in reminders:\n",
    "                self.reminders_list.insert(tk.END, reminder)\n",
    "        else:\n",
    "            self.reminders_list.insert(tk.END, \"No reminders for this date.\")\n",
    "\n"
   ]
  },
  {
   "cell_type": "code",
   "execution_count": null,
   "id": "46c00d93-ddb8-4b65-bb0e-212288beb8af",
   "metadata": {},
   "outputs": [],
   "source": [
    "# Main Execution\n",
    "if __name__ == \"__main__\":\n",
    "    setup_database()\n",
    "    root = tk.Tk()\n",
    "    app = CalendarApp(root)\n",
    "    root.mainloop()"
   ]
  },
  {
   "cell_type": "code",
   "execution_count": null,
   "id": "995ed7ab-10ed-4034-be54-60afbb26ca61",
   "metadata": {},
   "outputs": [],
   "source": []
  }
 ],
 "metadata": {
  "kernelspec": {
   "display_name": "Python 3 (ipykernel)",
   "language": "python",
   "name": "python3"
  },
  "language_info": {
   "codemirror_mode": {
    "name": "ipython",
    "version": 3
   },
   "file_extension": ".py",
   "mimetype": "text/x-python",
   "name": "python",
   "nbconvert_exporter": "python",
   "pygments_lexer": "ipython3",
   "version": "3.12.3"
  }
 },
 "nbformat": 4,
 "nbformat_minor": 5
}
